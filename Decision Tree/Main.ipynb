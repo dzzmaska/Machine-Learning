{
 "cells": [
  {
   "cell_type": "markdown",
   "id": "f71a33fd-5aab-4bef-8361-4f68a6888924",
   "metadata": {},
   "source": [
    "# Decision Trees (Tend do Overfit as in this case)"
   ]
  },
  {
   "cell_type": "code",
   "execution_count": 1,
   "id": "324863f4-c5c3-4fc4-a276-e6d53bbb8c07",
   "metadata": {},
   "outputs": [
    {
     "name": "stdout",
     "output_type": "stream",
     "text": [
      "Training Set Mean Absolute Error: 0.01\n",
      "Test Set Mean Absolute Error: 0.99\n"
     ]
    }
   ],
   "source": [
    "import pandas as pd \n",
    "from sklearn.model_selection import train_test_split\n",
    "from sklearn.tree import DecisionTreeRegressor\n",
    "from sklearn.metrics import mean_absolute_error\n",
    "\n",
    "# Import dataset\n",
    "df = pd.read_csv('https://raw.githubusercontent.com/mwaskom/seaborn-data/master/tips.csv')\n",
    "\n",
    "# Delete smoker variable\n",
    "del df['smoker']\n",
    "\n",
    "# Convert non-numeric data using one-hot encoding\n",
    "df = pd.get_dummies(df, columns=['time', 'day','sex'])\n",
    "\n",
    "# Assign X and y variables\n",
    "X = df.drop('tip',axis=1)\n",
    "y = df['tip']\n",
    "\n",
    "# Split data into test/train set (70/30 split) and shuffle\n",
    "X_train, X_test, y_train, y_test = train_test_split(X, y, test_size=0.3, shuffle=True)\n",
    "\n",
    "#_____________________________________________________________________________________________________________________________\n",
    "#Assign algorithm\n",
    "model = DecisionTreeRegressor()\n",
    "#_____________________________________________________________________________________________________________________________\n",
    "\n",
    "# Link algorithm to X and y variables\n",
    "model.fit(X_train, y_train)\n",
    "\n",
    "# Check prediction error for training data using MAE\n",
    "mae_train = mean_absolute_error(y_train, model.predict(X_train))\n",
    "print (\"Training Set Mean Absolute Error: %.2f\" % mae_train)\n",
    "\n",
    "# Check prediction error for test data using MAE\n",
    "mae_test = mean_absolute_error(y_test, model.predict(X_test))\n",
    "print (\"Test Set Mean Absolute Error: %.2f\" % mae_test)\n",
    "\n"
   ]
  },
  {
   "cell_type": "code",
   "execution_count": 2,
   "id": "736a4949-594d-4abd-b266-d7beaa1c9c60",
   "metadata": {},
   "outputs": [
    {
     "name": "stderr",
     "output_type": "stream",
     "text": [
      "C:\\Users\\davit\\AppData\\Local\\Programs\\Python\\Python313\\Lib\\site-packages\\sklearn\\utils\\validation.py:2739: UserWarning: X does not have valid feature names, but DecisionTreeRegressor was fitted with feature names\n",
      "  warnings.warn(\n"
     ]
    },
    {
     "data": {
      "text/plain": [
       "array([3.55])"
      ]
     },
     "execution_count": 2,
     "metadata": {},
     "output_type": "execute_result"
    }
   ],
   "source": [
    "# Data point to predict\n",
    "jamie = [\n",
    "\t40, #total_bill\n",
    "\t2, #size\n",
    "\t1, #time_dinner\n",
    "\t0, #time_lunch\n",
    "\t1, #day_fri\n",
    "\t0, #day_sat\n",
    "\t0, #day_sun\n",
    "\t0, #day_thur\n",
    "\t1, #sex_female\n",
    "\t0, #sex_male\n",
    "]\n",
    "\n",
    "# Make prediction\n",
    "jamie = model.predict([jamie])\n",
    "jamie"
   ]
  },
  {
   "cell_type": "markdown",
   "id": "327162d5-d01d-4ee5-9ab3-4cbcef32b374",
   "metadata": {},
   "source": [
    "# Algorithm step by step:"
   ]
  },
  {
   "cell_type": "markdown",
   "id": "6c3b5e96-c7c7-43a0-a210-b24c784c3047",
   "metadata": {},
   "source": [
    "1) Import the following Python libraries: A) pandas B) train_test_split from Scikit-learn C) DecisionTreeRegressor from Scikit-learn D) mean_absolute_error from Scikit-learn\n",
    "\n",
    "2) Import dataset from the web: https://raw.githubusercontent.com/mwaskom/seaborn-data/master/tips.csv\n",
    "\n",
    "3) Delete variable smoker\n",
    "\n",
    "4) Convert non-numeric variables using one-hot encoding. These variables include: time, day, and sex.\n",
    "\n",
    "5) Assign the X and y variables\n",
    "\n",
    "6) Shuffle the dataset and split the data into test/train sets (70/30 split)\n",
    "\n",
    "7) Assign DecisionTreeRegressor as the model's algorithm\n",
    "\n",
    "8) Link model to X and y variables using the fit function\n",
    "\n",
    "9) Run algorithm on test data to make predictions\n",
    "\n",
    "10) Evaluate predictions by comparing the model's predictions and the actual outcome of the test data using mean absolute error\n",
    "\n",
    "11) Make a prediction with the model using a sample data point (called 'Jamie') and the predict function\n",
    "\n"
   ]
  },
  {
   "cell_type": "markdown",
   "id": "bb20ffc4-123b-431c-a78b-4d6abe57f7ce",
   "metadata": {},
   "source": [
    "Data Scrubbing\n",
    "One-hot encoding for the variables time, day, and sex\n",
    "Delete variable smoker\n",
    "\n",
    "\n",
    "Independent Variables\n",
    "total_bill\n",
    "sex\n",
    "day\n",
    "time\n",
    "size\n",
    "\n",
    "\n",
    "Dependent Variable\n",
    "tip\n",
    "\n",
    "\n",
    "Evaluation\n",
    "Mean absolute error\n"
   ]
  },
  {
   "cell_type": "markdown",
   "id": "cfa004c8-46c2-4037-8ad0-7d72fd4e0cd9",
   "metadata": {},
   "source": [
    "# Things you didn't know: "
   ]
  },
  {
   "cell_type": "code",
   "execution_count": 3,
   "id": "b5bbcfc3-11dd-4e7c-9e83-ce47fcec09ea",
   "metadata": {},
   "outputs": [
    {
     "data": {
      "text/plain": [
       "Ellipsis"
      ]
     },
     "execution_count": 3,
     "metadata": {},
     "output_type": "execute_result"
    }
   ],
   "source": [
    "..."
   ]
  },
  {
   "cell_type": "markdown",
   "id": "e62930ae-7e68-4eb9-9b7d-a1c98563febd",
   "metadata": {},
   "source": [
    "# Things to Note:"
   ]
  },
  {
   "cell_type": "code",
   "execution_count": 4,
   "id": "62c8ca33-28ff-4c1e-b9fa-86055a4fbcd7",
   "metadata": {},
   "outputs": [
    {
     "data": {
      "text/plain": [
       "Ellipsis"
      ]
     },
     "execution_count": 4,
     "metadata": {},
     "output_type": "execute_result"
    }
   ],
   "source": [
    "..."
   ]
  }
 ],
 "metadata": {
  "kernelspec": {
   "display_name": "Python 3 (ipykernel)",
   "language": "python",
   "name": "python3"
  },
  "language_info": {
   "codemirror_mode": {
    "name": "ipython",
    "version": 3
   },
   "file_extension": ".py",
   "mimetype": "text/x-python",
   "name": "python",
   "nbconvert_exporter": "python",
   "pygments_lexer": "ipython3",
   "version": "3.13.2"
  }
 },
 "nbformat": 4,
 "nbformat_minor": 5
}
